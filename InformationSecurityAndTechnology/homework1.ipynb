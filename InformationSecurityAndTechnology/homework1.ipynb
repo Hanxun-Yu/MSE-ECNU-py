{
 "cells": [
  {
   "cell_type": "markdown",
   "metadata": {
    "pycharm": {
     "name": "#%% md\n"
    }
   },
   "source": [
    "**1. 使用穷尽秘钥搜索法破译如下利用移位密码加密的密文：  \n",
    "ESPESTCOPIPCNTDPYPPODACZRCLXXTYR.**"
   ]
  },
  {
   "cell_type": "code",
   "execution_count": 29,
   "outputs": [
    {
     "name": "stdout",
     "output_type": "stream",
     "text": [
      "0.2\n",
      "0.2\n",
      "0.2\n"
     ]
    }
   ],
   "source": [
    "from InformationSecurityAndTechnology.util.number_util import NumberUtil\n",
    "print(NumberUtil.reciprocal(5))\n",
    "print(NumberUtil.reciprocal(5))\n",
    "print(NumberUtil.reciprocal(5))\n",
    "\n"
   ],
   "metadata": {
    "collapsed": false,
    "pycharm": {
     "name": "#%%\n"
    }
   }
  },
  {
   "cell_type": "markdown",
   "source": [
    "**2.试用维吉尼亚密码加密明文串  \n",
    "we are discovered,save yourself,  \n",
    "这里密钥字为：friday**  "
   ],
   "metadata": {
    "collapsed": false,
    "pycharm": {
     "name": "#%% md\n"
    }
   }
  },
  {
   "cell_type": "code",
   "execution_count": null,
   "outputs": [],
   "source": [],
   "metadata": {
    "collapsed": false,
    "pycharm": {
     "name": "#%%\n"
    }
   }
  },
  {
   "cell_type": "markdown",
   "source": [
    "**3.计算定义在 $${\\Bbb Z}_{26} $$ 上矩阵 $${\\mit K}$$  =  $ \\begin{pmatrix} 1 & 11 & 12 \\\\ 4 & 23 & 2 \\\\  17&15&9 \\end{pmatrix}$\n",
    "的逆$${\\mit K}^{-1}$$, 并用$${\\mit K}$$作为希尔密码体质的密钥完成对明文串:  \n",
    "looking forward to our national day  \n",
    "的加密和相应密文串的解密。**"
   ],
   "metadata": {
    "collapsed": false,
    "pycharm": {
     "name": "#%% md\n"
    }
   }
  },
  {
   "cell_type": "code",
   "execution_count": null,
   "outputs": [],
   "source": [],
   "metadata": {
    "collapsed": false,
    "pycharm": {
     "name": "#%%\n"
    }
   }
  },
  {
   "cell_type": "markdown",
   "metadata": {},
   "source": []
  },
  {
   "cell_type": "code",
   "execution_count": null,
   "metadata": {},
   "outputs": [],
   "source": []
  }
 ],
 "metadata": {
  "kernelspec": {
   "display_name": "PyCharm (mse-ecnu-py)",
   "language": "python",
   "name": "pycharm-e6849b34"
  },
  "language_info": {
   "codemirror_mode": {
    "name": "ipython",
    "version": 3
   },
   "file_extension": ".py",
   "mimetype": "text/x-python",
   "name": "python",
   "nbconvert_exporter": "python",
   "pygments_lexer": "ipython3",
   "version": "3.8.5"
  }
 },
 "nbformat": 4,
 "nbformat_minor": 1
}