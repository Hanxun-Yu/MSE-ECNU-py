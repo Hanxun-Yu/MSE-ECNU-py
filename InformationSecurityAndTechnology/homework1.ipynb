{
 "cells": [
  {
   "cell_type": "code",
   "execution_count": 54,
   "metadata": {
    "pycharm": {
     "name": "#%%\n"
    }
   },
   "outputs": [
    {
     "name": "stdout",
     "output_type": "stream",
     "text": [
      "CharNumMap: {'a': 0, 'b': 1, 'c': 2, 'd': 3, 'e': 4, 'f': 5, 'g': 6, 'h': 7, 'i': 8, 'j': 9, 'k': 10, 'l': 11, 'm': 12, 'n': 13, 'o': 14, 'p': 15, 'q': 16, 'r': 17, 's': 18, 't': 19, 'u': 20, 'v': 21, 'w': 22, 'x': 23, 'y': 24, 'z': 25}\n",
      "NumCharMap: {0: 'a', 1: 'b', 2: 'c', 3: 'd', 4: 'e', 5: 'f', 6: 'g', 7: 'h', 8: 'i', 9: 'j', 10: 'k', 11: 'l', 12: 'm', 13: 'n', 14: 'o', 15: 'p', 16: 'q', 17: 'r', 18: 's', 19: 't', 20: 'u', 21: 'v', 22: 'w', 23: 'x', 24: 'y', 25: 'z'}\n"
     ]
    }
   ],
   "source": [
    "#字母编码表\n",
    "from number_util import NumberUtil\n",
    "\n",
    "CharNumMap = {}\n",
    "NumCharMap = {}\n",
    "for index in range(0,26):\n",
    "    CharNumMap[chr(ord('a')+index)] = index \n",
    "    NumCharMap[index] = chr(ord('a')+index) \n",
    "print(\"CharNumMap:\",CharNumMap)\n",
    "print(\"NumCharMap:\",NumCharMap)\n"
   ]
  },
  {
   "cell_type": "markdown",
   "metadata": {
    "pycharm": {
     "name": "#%% md\n"
    }
   },
   "source": [
    "**1. 使用穷尽秘钥搜索法破译如下利用移位密码加密的密文：  \n",
    "ESPESTCOPIPCNTDPYPPODACZRCLXXTYR.**"
   ]
  },
  {
   "cell_type": "code",
   "execution_count": 65,
   "metadata": {
    "pycharm": {
     "name": "#%%\n"
    }
   },
   "outputs": [
    {
     "name": "stdout",
     "output_type": "stream",
     "text": [
      "key=1 drodrsbnohobmscoxoonczbyqbkwwsxq\n",
      "key=2 cqncqramngnalrbnwnnmbyaxpajvvrwp\n",
      "key=3 bpmbpqzlmfmzkqamvmmlaxzwoziuuqvo\n",
      "key=4 aolaopyklelyjpzlullkzwyvnyhttpun\n",
      "key=5 znkznoxjkdkxioyktkkjyvxumxgssotm\n",
      "key=6 ymjymnwijcjwhnxjsjjixuwtlwfrrnsl\n",
      "key=7 xlixlmvhibivgmwiriihwtvskveqqmrk\n",
      "key=8 wkhwklughahuflvhqhhgvsurjudpplqj\n",
      "key=9 vjgvjktfgzgtekugpggfurtqitcookpi\n",
      "key=10 uifuijsefyfsdjtfoffetqsphsbnnjoh\n",
      "key=11 thethirdexerciseneedsprogramming\n",
      "key=12 sgdsghqcdwdqbhrdmddcroqnfqzllhmf\n",
      "key=13 rfcrfgpbcvcpagqclccbqnpmepykkgle\n",
      "key=14 qebqefoabubozfpbkbbapmoldoxjjfkd\n",
      "key=15 pdapdenzatanyeoajaazolnkcnwiiejc\n",
      "key=16 oczocdmyzszmxdnzizzynkmjbmvhhdib\n",
      "key=17 nbynbclxyrylwcmyhyyxmjlialuggcha\n",
      "key=18 maxmabkwxqxkvblxgxxwlikhzktffbgz\n",
      "key=19 lzwlzajvwpwjuakwfwwvkhjgyjseeafy\n",
      "key=20 kyvkyziuvovitzjvevvujgifxirddzex\n",
      "answer is 11!\n"
     ]
    }
   ],
   "source": [
    "cipher = \"ESPESTCOPIPCNTDPYPPODACZRCLXXTYR\"\n",
    "cipher = cipher.lower()\n",
    "maxK=20\n",
    "for key in range(1,maxK+1):\n",
    "    plaintext=\"\"\n",
    "    for c in cipher:\n",
    "        plaintext+=NumCharMap[NumberUtil.modulo(CharNumMap[c]-key,26)]\n",
    "    print(\"key=\"+str(key)+\" \"+plaintext)\n",
    "    \n",
    "print(\"answer is 11!\")\n",
    "\n"
   ]
  },
  {
   "cell_type": "markdown",
   "metadata": {
    "pycharm": {
     "name": "#%% md\n"
    }
   },
   "source": [
    "**2.试用维吉尼亚密码加密明文串  \n",
    "we are discovered,save yourself,  \n",
    "这里密钥字为：friday**  "
   ]
  },
  {
   "cell_type": "code",
   "execution_count": 66,
   "metadata": {
    "pycharm": {
     "name": "#%%\n"
    }
   },
   "outputs": [],
   "source": [
    "#无关笔记，代换密码：类似重新定义一个打乱的字符编码表，w的编码换成a的编码，b的编码换乘d的编码，这样就看不懂原来的明文了\n",
    "plaintext = \"we are discovered,save yourself,\"\n",
    "\n"
   ]
  },
  {
   "cell_type": "markdown",
   "metadata": {
    "pycharm": {
     "name": "#%% md\n"
    }
   },
   "source": [
    "**$ 3.计算定义在{\\Bbb Z}_{26} 上矩阵 {\\mit K} $= $\\begin{pmatrix} 1 & 11 & 12 \\\\ 4 & 23 & 2 \\\\  17&15&9 \\end{pmatrix}$\n",
    "$的逆{\\mit K}^{-1}$$, 并用$${\\mit K}$作为希尔密码体质的密钥完成对明文串:  \n",
    "looking forward to our national day  \n",
    "的加密和相应密文串的解密。**"
   ]
  },
  {
   "cell_type": "code",
   "execution_count": null,
   "metadata": {
    "pycharm": {
     "name": "#%%\n"
    }
   },
   "outputs": [],
   "source": []
  },
  {
   "cell_type": "markdown",
   "source": [],
   "metadata": {
    "collapsed": false
   }
  },
  {
   "cell_type": "code",
   "execution_count": null,
   "outputs": [],
   "source": [],
   "metadata": {
    "collapsed": false,
    "pycharm": {
     "name": "#%%\n"
    }
   }
  },
  {
   "cell_type": "markdown",
   "metadata": {},
   "source": []
  },
  {
   "cell_type": "code",
   "execution_count": null,
   "metadata": {},
   "outputs": [],
   "source": []
  }
 ],
 "metadata": {
  "kernelspec": {
   "display_name": "PyCharm (mse-ecnu-py)",
   "language": "python",
   "name": "pycharm-e6849b34"
  },
  "language_info": {
   "codemirror_mode": {
    "name": "ipython",
    "version": 3
   },
   "file_extension": ".py",
   "mimetype": "text/x-python",
   "name": "python",
   "nbconvert_exporter": "python",
   "pygments_lexer": "ipython3",
   "version": "3.8.5"
  }
 },
 "nbformat": 4,
 "nbformat_minor": 1
}