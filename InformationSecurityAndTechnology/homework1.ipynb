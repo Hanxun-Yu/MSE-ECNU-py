{
 "cells": [
  {
   "cell_type": "code",
   "execution_count": null,
   "metadata": {
    "pycharm": {
     "name": "#%%\n"
    }
   },
   "outputs": [],
   "source": [
    "#字母编码表\n",
    "import modulo_util as mu\n",
    "\n",
    "CharNumMap = {}\n",
    "NumCharMap = {}\n",
    "for index in range(0,26):\n",
    "    CharNumMap[chr(ord('a')+index)] = index \n",
    "    NumCharMap[index] = chr(ord('a')+index) \n",
    "print(\"CharNumMap:\",CharNumMap)\n",
    "print(\"NumCharMap:\",NumCharMap)\n"
   ]
  },
  {
   "cell_type": "markdown",
   "metadata": {
    "pycharm": {
     "name": "#%% md\n"
    }
   },
   "source": [
    "**1. 使用穷尽秘钥搜索法破译如下利用移位密码加密的密文：  \n",
    "ESPESTCOPIPCNTDPYPPODACZRCLXXTYR.**"
   ]
  },
  {
   "cell_type": "code",
   "execution_count": null,
   "metadata": {
    "pycharm": {
     "name": "#%%\n"
    }
   },
   "outputs": [],
   "source": [
    "cipher = \"ESPESTCOPIPCNTDPYPPODACZRCLXXTYR\"\n",
    "cipher = cipher.lower()\n",
    "maxK=20\n",
    "for key in range(1,maxK+1):\n",
    "    plaintext=\"\"\n",
    "    for c in cipher:\n",
    "        plaintext+=NumCharMap[mu.ModuloUtil.numModulo(CharNumMap[c]-key,26)]\n",
    "    print(\"key=\"+str(key)+\" \"+plaintext)\n",
    "    \n",
    "print(\"answer is 11!\")\n",
    "\n"
   ]
  },
  {
   "cell_type": "markdown",
   "metadata": {
    "pycharm": {
     "name": "#%% md\n"
    }
   },
   "source": [
    "**2.试用维吉尼亚密码加密明文串  \n",
    "we are discovered,save yourself,  \n",
    "这里密钥字为：friday**  "
   ]
  },
  {
   "cell_type": "code",
   "execution_count": null,
   "metadata": {
    "pycharm": {
     "name": "#%%\n"
    }
   },
   "outputs": [],
   "source": [
    "plaintext = \"we are discovered,save yourself,\"\n",
    "key = \"friday\"\n",
    "keyLen = len(key)\n",
    "plaintext = plaintext.lower()\n",
    "encryptCount = 0\n",
    "cipher = \"\"\n",
    "\n",
    "print(\"START encrypt\")\n",
    "for c in plaintext:\n",
    "    if ord('a') <= ord(c) <= ord('z'):\n",
    "        keyIndex = encryptCount % keyLen\n",
    "        cEncoded = CharNumMap[c]\n",
    "        keyEncoded = CharNumMap[key[keyIndex]]\n",
    "        cipher += NumCharMap[mu.ModuloUtil.numModulo(cEncoded+keyEncoded,26)]\n",
    "        encryptCount += 1\n",
    "    else:\n",
    "        cipher += c\n",
    "print(\"END encrypt\")\n",
    "print(\"cipher:\" + cipher.upper())\n",
    "\n",
    "\n",
    "cipher = cipher.lower()\n",
    "decryptCount = 0\n",
    "plaintext = \"\"   \n",
    "\n",
    "print()\n",
    "print(\"START decrypt\")\n",
    "for c in cipher:\n",
    "    if ord('a') <= ord(c) <= ord('z'):\n",
    "        keyIndex = decryptCount % keyLen\n",
    "        cEncoded = CharNumMap[c]\n",
    "        keyEncoded = CharNumMap[key[keyIndex]]\n",
    "        plaintext += NumCharMap[mu.ModuloUtil.numModulo(cEncoded-keyEncoded,26)]\n",
    "        decryptCount += 1\n",
    "    else:\n",
    "        plaintext += c\n",
    "print(\"END decrypt\")\n",
    "print(\"plaintext:\"+plaintext)\n",
    "        \n",
    "\n"
   ]
  },
  {
   "cell_type": "markdown",
   "metadata": {
    "pycharm": {
     "name": "#%% md\n"
    }
   },
   "source": [
    "**$ 3.计算定义在{\\Bbb Z}_{26} 上矩阵 {\\mit K} $= $\\begin{pmatrix} 1 & 11 & 12 \\\\ 4 & 23 & 2 \\\\  17&15&9 \\end{pmatrix}$\n",
    "$的逆{\\mit K}^{-1}$$, 并用$${\\mit K}$作为希尔密码体质的密钥完成对明文串:  \n",
    "looking forward to our national day  \n",
    "的加密和相应密文串的解密。**"
   ]
  },
  {
   "cell_type": "code",
   "execution_count": null,
   "metadata": {
    "pycharm": {
     "name": "#%%\n"
    }
   },
   "outputs": [],
   "source": [
    "#没有找到求矩阵 模逆的办法， 下面不要看了\n",
    "import numpy as np\n",
    "keyMatrix = np.mat([[17,21,2],\n",
    "                    [17,18,2],\n",
    "                    [6,21,19]],int)\n",
    "    # np.mat([[1,11,12],\n",
    "    #                 [4,23,2],\n",
    "    #                 [17,15,6]],int)\n",
    "plaintext = \"looking forward to our national day\"\n",
    "#向量化 明文转成1x3矩阵\n",
    "plaintextEncodedArr = []\n",
    "for c in plaintext:\n",
    "    if ord('a') <= ord(c) <= ord('z'):\n",
    "         cEncoded = CharNumMap[c]\n",
    "         plaintextEncodedArr.append(cEncoded)\n",
    "\n",
    "print(\"plaintextEncodedArr:\\n\",plaintextEncodedArr)\n",
    "print(len(plaintextEncodedArr))\n",
    "\n",
    "cipherArr = []\n",
    "for index in range(len(plaintextEncodedArr)):\n",
    "    if index % 3 == 0:\n",
    "        itemMatrix = np.mat([plaintextEncodedArr[index],\n",
    "                             plaintextEncodedArr[index+1],\n",
    "                             plaintextEncodedArr[index+2]])\n",
    "        itemCipherMatrix = np.dot(np.mat(itemMatrix),keyMatrix)\n",
    "        cipherArr.extend(itemCipherMatrix.tolist()[0])\n",
    "\n",
    "#mod\n",
    "for i in range(len(cipherArr)):\n",
    "    cipherArr[i] = mu.ModuloUtil.numModulo(cipherArr[i],26)\n",
    "print(\"cipherArr:\\n\",cipherArr)\n",
    "\n",
    "#求K逆\n",
    "keyMatrixInverse = mu.ModuloUtil.matrixModuloInverse(keyMatrix,26)\n",
    "print(\"\\nkeyMatrixInverseMod:\\n\",keyMatrixInverse)\n",
    "\n",
    "#使用K逆\n",
    "plaintextEncodedUnmodArr = []\n",
    "for index in range(len(cipherArr)):\n",
    "    if index % 3 == 0:\n",
    "        itemMatrix = np.mat([cipherArr[index],\n",
    "                             cipherArr[index+1],\n",
    "                             cipherArr[index+2]])\n",
    "        itemPlaintextMatrix = np.dot(np.mat(itemMatrix),keyMatrixInverse)\n",
    "        plaintextEncodedUnmodArr.extend(itemPlaintextMatrix.tolist()[0])\n",
    "\n",
    "plaintextEncodedArr = []\n",
    "for x in plaintextEncodedUnmodArr:\n",
    "    plaintextEncodedArr.append(mu.ModuloUtil.numModulo(x,26))\n",
    "    \n",
    "    \n",
    "print(plaintextEncodedArr)\n"
   ]
  },
  {
   "cell_type": "markdown",
   "source": [
    "\n",
    "\n",
    "\n"
   ],
   "metadata": {
    "collapsed": false,
    "pycharm": {
     "name": "#%% md\n"
    }
   }
  }
 ],
 "metadata": {
  "kernelspec": {
   "name": "pycharm-e6849b34",
   "language": "python",
   "display_name": "PyCharm (mse-ecnu-py)"
  },
  "language_info": {
   "codemirror_mode": {
    "name": "ipython",
    "version": 3
   },
   "file_extension": ".py",
   "mimetype": "text/x-python",
   "name": "python",
   "nbconvert_exporter": "python",
   "pygments_lexer": "ipython3",
   "version": "3.8.5"
  }
 },
 "nbformat": 4,
 "nbformat_minor": 1
}