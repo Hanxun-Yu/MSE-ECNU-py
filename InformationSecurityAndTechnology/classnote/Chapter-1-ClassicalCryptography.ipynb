{
 "cells": [
  {
   "cell_type": "markdown",
   "metadata": {
    "pycharm": {
     "name": "#%% md\n"
    }
   },
   "source": [
    ">配合pdf上笔记, 写的一些代码\n",
    "### 同余定理\n",
    "设$ a\\in{\\Bbb Z}_{m}$，对任意的$b\\in{\\Bbb Z}_{m}$，同余方程<br>\n",
    "$\\qquad ax\\equiv b\\;(mod\\;{\\mit m})  $<br>\n",
    "有唯一解的充分必要条件是<br>\n",
    "$\\qquad gcd(a,m)=1$ （gcd最大公约数函数）\n",
    "\n",
    ">下面这个函数cal_x(a,m)，传入a和m，列出所有b<m对应的x"
   ]
  },
  {
   "cell_type": "code",
   "execution_count": null,
   "metadata": {
    "collapsed": true
   },
   "outputs": [],
   "source": [
    "def cal_x(a,m):\n",
    "    print(\"start a=%d m=%d\" %(a,m))\n",
    "    for b in range(0,m):\n",
    "        for x in range(0,m):\n",
    "            if (a*x)%m == b:\n",
    "                print(\"b:%d x:%d \" % (b,x))\n",
    "    print(\"end\")"
   ]
  },
  {
   "cell_type": "markdown",
   "metadata": {
    "pycharm": {
     "name": "#%% md\n"
    }
   },
   "source": [
    ">设a=5 m=26 gcd(a,m)=1  每个b将对应一个x"
   ]
  },
  {
   "cell_type": "code",
   "execution_count": null,
   "metadata": {
    "pycharm": {
     "name": "#%%\n"
    }
   },
   "outputs": [],
   "source": [
    "cal_x(5,26)"
   ]
  },
  {
   "cell_type": "markdown",
   "metadata": {
    "pycharm": {
     "name": "#%% md\n"
    }
   },
   "source": [
    ">设a=8 m=26 gcd(a,m)=2  每个b将对应gcd()即2个x或无解"
   ]
  },
  {
   "cell_type": "code",
   "execution_count": null,
   "metadata": {
    "pycharm": {
     "name": "#%%\n"
    }
   },
   "outputs": [],
   "source": [
    "cal_x(8,26)"
   ]
  },
  {
   "cell_type": "markdown",
   "metadata": {
    "pycharm": {
     "name": "#%% md\n"
    }
   },
   "source": [
    "### 乘法逆定义和性质\n",
    "\n",
    "1. $设 a\\in{\\Bbb Z}_{m}$，若存在$a' \\in{\\Bbb Z}_{m}$，使得<br>\n",
    "$aa'\\equiv 1\\;(mod\\;{\\mit m})$<br>\n",
    "$则称a模m可逆，a'为a的（乘法）逆元。$<br>$a’可记为{a}^{-1}mod\\;m,在m固定的情形下，简记为{a}^{-1}$"
   ]
  },
  {
   "cell_type": "markdown",
   "metadata": {
    "pycharm": {
     "name": "#%% md\n"
    }
   },
   "source": [
    "2. $当且仅当gcd(a,m)=1时，a模m可逆。$<br>\n",
    ">设a与m另gcd(a,m)=1 观察b=1时，x的值，这里求的x就是a逆"
   ]
  },
  {
   "cell_type": "code",
   "execution_count": null,
   "metadata": {
    "pycharm": {
     "name": "#%%\n"
    }
   },
   "outputs": [],
   "source": [
    "cal_x(3,26)"
   ]
  },
  {
   "cell_type": "markdown",
   "metadata": {},
   "source": [
    "3. $如果p为素数，则{\\Bbb Z}_{p}上任一非零元素均可逆。$<br>\n",
    ">传入任意素数m，任取a<m，观察b与x是否一一对应"
   ]
  },
  {
   "cell_type": "code",
   "execution_count": null,
   "metadata": {
    "pycharm": {
     "name": "#%%\n"
    }
   },
   "outputs": [],
   "source": [
    "cal_x(3,13)"
   ]
  },
  {
   "cell_type": "markdown",
   "metadata": {},
   "source": [
    "4. $如果gcd(a,m)=1时，则同余方程ax\\equiv b\\;(mod\\;{\\mit m})，在{\\Bbb Z}_{m}内有唯一解$<br>\n",
    "$x=({a}^{-1}b)\\; mod\\;{\\mit m}$<br>\n",
    "这和顶部同余定理一致\n",
    ">传入a与m 使gcd(a,m)=1，观察b与x是否一一对应"
   ]
  },
  {
   "cell_type": "code",
   "execution_count": null,
   "metadata": {
    "pycharm": {
     "name": "#%%\n"
    }
   },
   "outputs": [],
   "source": [
    "cal_x(7,26)"
   ]
  },
  {
   "cell_type": "markdown",
   "metadata": {},
   "source": [
    "#### 移位密码\n",
    ">所有明文使用同一个\"固定偏移量\"密钥\n",
    "\n",
    "#### 代换密码\n",
    ">定义$\\pi$ 二级编码表\n",
    "#### 仿射密码\n",
    ">通过同余方程$ax\\equiv b\\;(mod\\;{\\mit m})$  因必须使gcd(a,m)=1，$故从欧拉数\\phi(m)$个a中取一个a，传入明文x一定能找到对应密文b\n",
    "#### 维吉尼亚密码\n",
    ">密钥为一个d维向量（d<=m），多个偏移量，每一维作为一个明文字符的偏移量，明文交替使用密钥偏移\n",
    "#### 希尔密码\n",
    ">密钥为一个可逆矩阵K\n",
    "#### 置换密码\n",
    ">和代换密码相似<br>\n",
    ">这里的$\\pi有P^m_m种可能 $\n",
    "#### 分组密码\n",
    "#### 流密码\n",
    "-----------------"
   ]
  },
  {
   "cell_type": "markdown",
   "source": [
    "### 古典密码学\n",
    "#### 1.2 密码分析"
   ],
   "metadata": {
    "collapsed": false
   }
  },
  {
   "cell_type": "markdown",
   "source": [
    "### 古典密码学\n",
    "#### 1.2 密码分析"
   ],
   "metadata": {
    "collapsed": false,
    "pycharm": {
     "name": "#%% md\n"
    }
   }
  }
 ],
 "metadata": {
  "kernelspec": {
   "name": "python3",
   "language": "python",
   "display_name": "Python 3"
  },
  "language_info": {
   "codemirror_mode": {
    "name": "ipython",
    "version": 3
   },
   "file_extension": ".py",
   "mimetype": "text/x-python",
   "name": "python",
   "nbconvert_exporter": "python",
   "pygments_lexer": "ipython3",
   "version": "3.8.5"
  }
 },
 "nbformat": 4,
 "nbformat_minor": 1
}