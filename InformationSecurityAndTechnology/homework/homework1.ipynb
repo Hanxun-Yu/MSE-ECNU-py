{
 "cells": [
  {
   "cell_type": "code",
   "execution_count": 9,
   "metadata": {
    "pycharm": {
     "name": "#%%\n"
    }
   },
   "outputs": [],
   "source": [
    "#字母编码表\n",
    "import modulo_util as m_u\n",
    "import char_table as c_t\n",
    "import numpy_util as n_u\n",
    "\n",
    "ct = c_t.CharTable()\n",
    "mu = m_u.ModuloUtil\n",
    "nu = n_u.NumpyUtil()\n"
   ]
  },
  {
   "cell_type": "markdown",
   "metadata": {
    "pycharm": {
     "name": "#%% md\n"
    }
   },
   "source": [
    "**1. 使用穷尽秘钥搜索法破译如下利用移位密码加密的密文：  \n",
    "ESPESTCOPIPCNTDPYPPODACZRCLXXTYR.**"
   ]
  },
  {
   "cell_type": "code",
   "execution_count": 17,
   "metadata": {
    "pycharm": {
     "name": "#%%\n"
    }
   },
   "outputs": [
    {
     "name": "stdout",
     "output_type": "stream",
     "text": [
      "key=1 EFNR URPJ ZEKV IEVK FWKY ZEXJ ZJRN ZUVC PUZJ TLJJ VUKF GZTR DFEX IVJV RITY VIJ\n",
      "key=2 DEMQ TQOI YDJU HDUJ EVJX YDWI YIQM YTUB OTYI SKII UTJE FYSQ CEDW HUIU QHSX UHI\n",
      "key=3 CDLP SPNH XCIT GCTI DUIW XCVH XHPL XSTA NSXH RJHH TSID EXRP BDCV GTHT PGRW TGH\n",
      "key=4 BCKO ROMG WBHS FBSH CTHV WBUG WGOK WRSZ MRWG QIGG SRHC DWQO ACBU FSGS OFQV SFG\n",
      "key=5 ABJN QNLF VAGR EARG BSGU VATF VFNJ VQRY LQVF PHFF RQGB CVPN ZBAT ERFR NEPU REF\n",
      "key=6 ZAIM PMKE UZFQ DZQF ARFT UZSE UEMI UPQX KPUE OGEE QPFA BUOM YAZS DQEQ MDOT QDE\n",
      "key=7 YZHL OLJD TYEP CYPE ZQES TYRD TDLH TOPW JOTD NFDD POEZ ATNL XZYR CPDP LCNS PCD\n",
      "key=8 XYGK NKIC SXDO BXOD YPDR SXQC SCKG SNOV INSC MECC ONDY ZSMK WYXQ BOCO KBMR OBC\n",
      "key=9 WXFJ MJHB RWCN AWNC XOCQ RWPB RBJF RMNU HMRB LDBB NMCX YRLJ VXWP ANBN JALQ NAB\n",
      "key=10 VWEI LIGA QVBM ZVMB WNBP QVOA QAIE QLMT GLQA KCAA MLBW XQKI UWVO ZMAM IZKP MZA\n",
      "key=11 UVDH KHFZ PUAL YULA VMAO PUNZ PZHD PKLS FKPZ JBZZ LKAV WPJH TVUN YLZL HYJO LYZ\n",
      "key=12 TUCG JGEY OTZK XTKZ ULZN OTMY OYGC OJKR EJOY IAYY KJZU VOIG SUTM XKYK GXIN KXY\n",
      "key=13 STBF IFDX NSYJ WSJY TKYM NSLX NXFB NIJQ DINX HZXX JIYT UNHF RTSL WJXJ FWHM JWX\n",
      "key=14 RSAE HECW MRXI VRIX SJXL MRKW MWEA MHIP CHMW GYWW IHXS TMGE QSRK VIWI EVGL IVW\n",
      "key=15 QRZD GDBV LQWH UQHW RIWK LQJV LVDZ LGHO BGLV FXVV HGWR SLFD PRQJ UHVH DUFK HUV\n",
      "key=16 PQYC FCAU KPVG TPGV QHVJ KPIU KUCY KFGN AFKU EWUU GFVQ RKEC OQPI TGUG CTEJ GTU\n",
      "key=17 OPXB EBZT JOUF SOFU PGUI JOHT JTBX JEFM ZEJT DVTT FEUP QJDB NPOH SFTF BSDI FST\n",
      "key=18 NOWA DAYS INTE RNET OFTH INGS ISAW IDEL YDIS CUSS EDTO PICA MONG RESE ARCH ERS\n",
      "key=19 MNVZ CZXR HMSD QMDS NESG HMFR HRZV HCDK XCHR BTRR DCSN OHBZ LNMF QDRD ZQBG DQR\n",
      "key=20 LMUY BYWQ GLRC PLCR MDRF GLEQ GQYU GBCJ WBGQ ASQQ CBRM NGAY KMLE PCQC YPAF CPQ\n",
      "answer is 11!\n"
     ]
    }
   ],
   "source": [
    "# cipher = \"ESPESTCOPIPCNTDPYPPODACZRCLXXTYR\"\n",
    "cipher = \"FGOS VSQK AFLW JFWL GXLZ AFYK AKSO AVWD QVAK UMKK WVLG HAUS EGFY JWKW SJUZ WJK\"\n",
    "\n",
    "cipher = cipher.lower()\n",
    "maxK=20\n",
    "for key in range(1,maxK+1):\n",
    "    plaintext=\"\"\n",
    "    for c in cipher:\n",
    "        if c != ' ':\n",
    "            plaintext+=ct.decode_to_char(mu.numModulo(ct.encode_char(c)-key,26))\n",
    "        else:\n",
    "            plaintext+=c\n",
    "    print(\"key=\"+str(key)+\" \"+plaintext)\n",
    "    \n",
    "print(\"answer is 11!\")\n",
    "\"key=18 NOWA DAYS INTE RNET OFTH INGS ISAW IDEL YDIS CUSS EDTO PICA MONG RESE ARCH ERS\"\n"
   ]
  },
  {
   "cell_type": "markdown",
   "metadata": {
    "pycharm": {
     "name": "#%% md\n"
    }
   },
   "source": [
    "**2.试用维吉尼亚密码加密明文串  \n",
    "we are discovered,save yourself,  \n",
    "这里密钥字为：friday**  "
   ]
  },
  {
   "cell_type": "code",
   "execution_count": 11,
   "metadata": {
    "pycharm": {
     "name": "#%%\n"
    }
   },
   "outputs": [
    {
     "name": "stdout",
     "output_type": "stream",
     "text": [
      "START encrypt\n",
      "END encrypt\n",
      "cipher:BV IUE BNJKRVCWVL,VATJ PWXRQJCN,\n",
      "\n",
      "START decrypt\n",
      "END decrypt\n",
      "plaintext:WE ARE DISCOVERED,SAVE YOURSELF,\n"
     ]
    }
   ],
   "source": [
    "plaintext = \"we are discovered,save yourself,\"\n",
    "key = \"friday\"\n",
    "keyLen = len(key)\n",
    "plaintext = plaintext.lower()\n",
    "encryptCount = 0\n",
    "cipher = \"\"\n",
    "\n",
    "print(\"START encrypt\")\n",
    "for c in plaintext:\n",
    "    if ord('a') <= ord(c) <= ord('z'):\n",
    "        keyIndex = encryptCount % keyLen\n",
    "        cEncoded = ct.encode_char(c)\n",
    "        keyEncoded = ct.encode_char(key[keyIndex])\n",
    "        cipher += ct.decode_to_char(\n",
    "            mu.numModulo(cEncoded+keyEncoded,26))\n",
    "        encryptCount += 1\n",
    "    else:\n",
    "        cipher += c\n",
    "print(\"END encrypt\")\n",
    "print(\"cipher:\" + cipher.upper())\n",
    "\n",
    "\n",
    "cipher = cipher.lower()\n",
    "decryptCount = 0\n",
    "plaintext = \"\"   \n",
    "\n",
    "print()\n",
    "print(\"START decrypt\")\n",
    "for c in cipher:\n",
    "    if ord('a') <= ord(c) <= ord('z'):\n",
    "        keyIndex = decryptCount % keyLen\n",
    "        cEncoded = ct.encode_char(c)\n",
    "        keyEncoded = ct.encode_char(key[keyIndex])\n",
    "        plaintext += ct.decode_to_char(mu.numModulo(cEncoded-keyEncoded,26))\n",
    "        decryptCount += 1\n",
    "    else:\n",
    "        plaintext += c\n",
    "print(\"END decrypt\")\n",
    "print(\"plaintext:\"+plaintext)\n",
    "        \n",
    "\n"
   ]
  },
  {
   "cell_type": "markdown",
   "metadata": {
    "pycharm": {
     "name": "#%% md\n"
    }
   },
   "source": [
    "**$ 3.计算定义在{\\Bbb Z}_{26} 上矩阵 {\\mit K} $= $\\begin{pmatrix} 1 & 11 & 12 \\\\ 4 & 23 & 2 \\\\  17&15&9 \\end{pmatrix}$\n",
    "$的逆{\\mit K}^{-1}$$, 并用$${\\mit K}$作为希尔密码体质的密钥完成对明文串:  \n",
    "looking forward to our national day  \n",
    "的加密和相应密文串的解密。**"
   ]
  },
  {
   "cell_type": "code",
   "execution_count": 12,
   "metadata": {
    "pycharm": {
     "name": "#%%\n"
    }
   },
   "outputs": [
    {
     "name": "stdout",
     "output_type": "stream",
     "text": [
      "plaintextEncodedArr: [11, 14, 14, 10, 8, 13, 6, 5, 14, 17, 22, 0, 17, 3, 19, 14, 14, 20, 17, 13, 0, 19, 8, 14, 13, 0, 11, 3, 0, 24]\n",
      "cipherEncodedArr: [19  3  0  3 21 19  4  1  0  1 17 14 14 21 17 20 22 12 17 18 22  3  5  6\n",
      " 18 22 21 21  3 18]\n",
      "cipherStr: TDADVTEBABROOVRUWMRSWDFGSWVVDS\n",
      "keyMatrixInverseMod: [[25 11 22]\n",
      " [10 13  4]\n",
      " [17 24  1]]\n",
      "[11, 14, 14, 10, 8, 13, 6, 5, 14, 17, 22, 0, 17, 3, 19, 14, 14, 20, 17, 13, 0, 19, 8, 14, 13, 0, 11, 3, 0, 24]\n"
     ]
    }
   ],
   "source": [
    "import numpy as np\n",
    "\n",
    "keyMatrix =  np.mat([[1,11,12],\n",
    "                    [4,23,2],\n",
    "                    [17,15,9]],int)\n",
    "keyMatrix_M = keyMatrix.shape[0]\n",
    "\n",
    "plaintext = \"looking forward to our national day\"\n",
    "#向量化 明文转成1x3矩阵\n",
    "plaintextEncodedArr = ct.encode_string(plaintext)\n",
    "print(\"plaintextEncodedArr:\",plaintextEncodedArr)\n",
    "\n",
    "plaintextEncodedMatrix = nu.array2matrix(plaintextEncodedArr,keyMatrix_M)\n",
    "cipherEncodedMatrix = mu.matrixModuloDot(plaintextEncodedMatrix,keyMatrix,26)\n",
    "# for index in range(len(plaintextEncodedArr)):\n",
    "#     if index % 3 == 0:\n",
    "#         itemMatrix = np.mat([plaintextEncodedArr[index],\n",
    "#                              plaintextEncodedArr[index+1],\n",
    "#                              plaintextEncodedArr[index+2]])\n",
    "#         itemCipherMatrix = np.dot(np.mat(itemMatrix),keyMatrix)\n",
    "#         cipherArr.extend(itemCipherMatrix.tolist()[0])\n",
    "\n",
    "cipherEncodedArr = nu.matrix2Array(cipherEncodedMatrix)\n",
    "print(\"cipherEncodedArr:\",cipherEncodedArr)\n",
    "cipherStr = ct.decode_to_string(cipherEncodedArr)\n",
    "print(\"cipherStr:\",cipherStr)\n",
    "\n",
    "#求K逆\n",
    "keyMatrixInverse = mu.matrixModuloInverse(keyMatrix,26)\n",
    "print(\"keyMatrixInverseMod:\",keyMatrixInverse)\n",
    "\n",
    "#使用K逆\n",
    "# plaintextEncodedUnmodArr = []\n",
    "# for index in range(len(cipherArr)):\n",
    "#     if index % 3 == 0:\n",
    "#         itemMatrix = np.mat([cipherArr[index],\n",
    "#                              cipherArr[index+1],\n",
    "#                              cipherArr[index+2]])\n",
    "#         itemPlaintextMatrix = np.dot(np.mat(itemMatrix),keyMatrixInverse)\n",
    "#         plaintextEncodedUnmodArr.extend(itemPlaintextMatrix.tolist()[0])\n",
    "\n",
    "cipherEncodedMatrix = nu.array2matrix(cipherEncodedArr,keyMatrix_M)\n",
    "plaintextEncodedMatrix = mu.matrixModuloDot(cipherEncodedMatrix,keyMatrixInverse,26)\n",
    "plaintextEncodedArr = nu.matrix2List(plaintextEncodedMatrix)\n",
    "\n",
    "print(plaintextEncodedArr)\n"
   ]
  },
  {
   "cell_type": "markdown",
   "source": [
    "\n",
    "\n",
    "\n"
   ],
   "metadata": {
    "collapsed": false,
    "pycharm": {
     "name": "#%% md\n"
    }
   }
  }
 ],
 "metadata": {
  "kernelspec": {
   "name": "python3",
   "language": "python",
   "display_name": "Python 3"
  },
  "language_info": {
   "codemirror_mode": {
    "name": "ipython",
    "version": 3
   },
   "file_extension": ".py",
   "mimetype": "text/x-python",
   "name": "python",
   "nbconvert_exporter": "python",
   "pygments_lexer": "ipython3",
   "version": "3.8.5"
  }
 },
 "nbformat": 4,
 "nbformat_minor": 1
}