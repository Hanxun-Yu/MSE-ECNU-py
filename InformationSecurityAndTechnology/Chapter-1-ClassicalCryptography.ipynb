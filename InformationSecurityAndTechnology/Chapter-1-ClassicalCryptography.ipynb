{
 "cells": [
  {
   "cell_type": "markdown",
   "source": [
    "设$ a\\in{\\Bbb Z}_{m}$，对任意的$b\\in{\\Bbb Z}_{m}$，同余方程<br>\n",
    "$\\qquad ax\\equiv b\\;(mod\\;{\\mit m})  $<br>\n",
    "有唯一解的充分必要条件是<br>\n",
    "$\\qquad gcd(a,m)=1$\n"
   ],
   "metadata": {
    "collapsed": false,
    "pycharm": {
     "name": "#%% md\n"
    }
   }
  },
  {
   "cell_type": "code",
   "execution_count": 26,
   "metadata": {
    "collapsed": true
   },
   "outputs": [
    {
     "name": "stdout",
     "output_type": "stream",
     "text": [
      "start a=5 m=26\n",
      "b:0 x:0 \n",
      "b:1 x:21 \n",
      "b:2 x:16 \n",
      "b:3 x:11 \n",
      "b:4 x:6 \n",
      "b:5 x:1 \n",
      "b:6 x:22 \n",
      "b:7 x:17 \n",
      "b:8 x:12 \n",
      "b:9 x:7 \n",
      "b:10 x:2 \n",
      "b:11 x:23 \n",
      "b:12 x:18 \n",
      "b:13 x:13 \n",
      "b:14 x:8 \n",
      "b:15 x:3 \n",
      "b:16 x:24 \n",
      "b:17 x:19 \n",
      "b:18 x:14 \n",
      "b:19 x:9 \n",
      "b:20 x:4 \n",
      "b:22 x:20 \n",
      "b:23 x:15 \n",
      "b:24 x:10 \n",
      "end\n",
      "\n",
      "start a=8 m=26\n",
      "b:0 x:0 \n",
      "b:0 x:13 \n",
      "b:2 x:10 \n",
      "b:2 x:23 \n",
      "b:4 x:7 \n",
      "b:4 x:20 \n",
      "b:6 x:4 \n",
      "b:6 x:17 \n",
      "b:8 x:1 \n",
      "b:8 x:14 \n",
      "b:10 x:11 \n",
      "b:10 x:24 \n",
      "b:12 x:8 \n",
      "b:12 x:21 \n",
      "b:14 x:5 \n",
      "b:14 x:18 \n",
      "b:16 x:2 \n",
      "b:16 x:15 \n",
      "b:18 x:12 \n",
      "b:20 x:9 \n",
      "b:20 x:22 \n",
      "b:22 x:6 \n",
      "b:22 x:19 \n",
      "b:24 x:3 \n",
      "b:24 x:16 \n",
      "end\n"
     ]
    }
   ],
   "source": [
    "def cal_x(a,m):\n",
    "    print(\"start a=%d m=%d\" %(a,m))\n",
    "    for b in range(0,m-1):\n",
    "        for x in range(0,m-1):\n",
    "            if (a*x)%m == b:\n",
    "                print(\"b:%d x:%d \" % (b,x))\n",
    "    print(\"end\")\n",
    "    \n",
    "#设a=5 m=26 gcd(a,m)=1  每个b将对应一个x\n",
    "cal_x(5,26)\n",
    "print()\n",
    "#设a=8 m=26 gcd(a,m)=2  每个将对应gcd()即2个x或无解\n",
    "cal_x(8,26)\n",
    "\n"
   ]
  }
 ],
 "metadata": {
  "kernelspec": {
   "display_name": "Python 3",
   "language": "python",
   "name": "python3"
  },
  "language_info": {
   "codemirror_mode": {
    "name": "ipython",
    "version": 2
   },
   "file_extension": ".py",
   "mimetype": "text/x-python",
   "name": "python",
   "nbconvert_exporter": "python",
   "pygments_lexer": "ipython2",
   "version": "2.7.6"
  }
 },
 "nbformat": 4,
 "nbformat_minor": 0
}