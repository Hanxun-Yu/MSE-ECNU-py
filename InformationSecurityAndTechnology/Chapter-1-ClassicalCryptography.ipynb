{
 "cells": [
  {
   "cell_type": "markdown",
   "source": [
    "### 同余定理\n",
    "设$ a\\in{\\Bbb Z}_{m}$，对任意的$b\\in{\\Bbb Z}_{m}$，同余方程<br>\n",
    "$\\qquad ax\\equiv b\\;(mod\\;{\\mit m})  $<br>\n",
    "有唯一解的充分必要条件是<br>\n",
    "$\\qquad gcd(a,m)=1$ （gcd最大公约数函数）\n",
    "\n",
    ">当a与m确定时，求任意b对应的x"
   ],
   "metadata": {
    "collapsed": false,
    "pycharm": {
     "name": "#%% md\n"
    }
   }
  },
  {
   "cell_type": "code",
   "execution_count": null,
   "metadata": {
    "collapsed": true
   },
   "outputs": [],
   "source": [
    "def cal_x(a,m):\n",
    "    print(\"start a=%d m=%d\" %(a,m))\n",
    "    for b in range(0,m):\n",
    "        for x in range(0,m):\n",
    "            if (a*x)%m == b:\n",
    "                print(\"b:%d x:%d \" % (b,x))\n",
    "    print(\"end\")"
   ]
  },
  {
   "cell_type": "markdown",
   "source": [
    ">设a=5 m=26 gcd(a,m)=1  每个b将对应一个x"
   ],
   "metadata": {
    "collapsed": false,
    "pycharm": {
     "name": "#%% md\n"
    }
   }
  },
  {
   "cell_type": "code",
   "execution_count": null,
   "outputs": [],
   "source": [
    "cal_x(5,26)"
   ],
   "metadata": {
    "collapsed": false,
    "pycharm": {
     "name": "#%%\n"
    }
   }
  },
  {
   "cell_type": "markdown",
   "source": [
    ">设a=8 m=26 gcd(a,m)=2  每个b将对应gcd()即2个x或无解"
   ],
   "metadata": {
    "collapsed": false,
    "pycharm": {
     "name": "#%% md\n"
    }
   }
  },
  {
   "cell_type": "code",
   "execution_count": null,
   "outputs": [],
   "source": [
    "cal_x(8,26)"
   ],
   "metadata": {
    "collapsed": false,
    "pycharm": {
     "name": "#%%\n"
    }
   }
  },
  {
   "cell_type": "markdown",
   "source": [
    "### 乘法逆定义和性质\n",
    "\n",
    "1. $设 a\\in{\\Bbb Z}_{m}$，若存在$a' \\in{\\Bbb Z}_{m}$，使得<br>\n",
    "$aa'\\equiv 1\\;(mod\\;{\\mit m})$<br>\n",
    "$则称a模m可逆，a'为a的（乘法）逆元。$<br>$a’可记为{a}^{-1}mod\\;m,在m固定的情形下，简记为{a}^{-1}$"
   ],
   "metadata": {
    "collapsed": false,
    "pycharm": {
     "name": "#%% md\n"
    }
   }
  },
  {
   "cell_type": "markdown",
   "source": [
    "2. $当且仅当gcd(a,m)=1时，a模m可逆。$<br>\n",
    ">设a与m另gcd(a,m)=1 观察b=1时，x的值，这里求的x就是a逆"
   ],
   "metadata": {
    "collapsed": false,
    "pycharm": {
     "name": "#%% md\n"
    }
   }
  },
  {
   "cell_type": "code",
   "execution_count": null,
   "outputs": [],
   "source": [
    "cal_x(3,26)"
   ],
   "metadata": {
    "collapsed": false,
    "pycharm": {
     "name": "#%%\n"
    }
   }
  },
  {
   "cell_type": "markdown",
   "source": [
    "3. $如果p为素数，则{\\Bbb Z}_{p}上任一非零元素均可逆。$<br>\n",
    ">传入任意素数m，任取a<m，观察b与x是否一一对应"
   ],
   "metadata": {
    "collapsed": false
   }
  },
  {
   "cell_type": "code",
   "execution_count": null,
   "outputs": [],
   "source": [
    "#\n",
    "cal_x(3,7)\n"
   ],
   "metadata": {
    "collapsed": false,
    "pycharm": {
     "name": "#%%\n"
    }
   }
  }
 ],
 "metadata": {
  "kernelspec": {
   "display_name": "Python 3",
   "language": "python",
   "name": "python3"
  },
  "language_info": {
   "codemirror_mode": {
    "name": "ipython",
    "version": 2
   },
   "file_extension": ".py",
   "mimetype": "text/x-python",
   "name": "python",
   "nbconvert_exporter": "python",
   "pygments_lexer": "ipython2",
   "version": "2.7.6"
  }
 },
 "nbformat": 4,
 "nbformat_minor": 0
}