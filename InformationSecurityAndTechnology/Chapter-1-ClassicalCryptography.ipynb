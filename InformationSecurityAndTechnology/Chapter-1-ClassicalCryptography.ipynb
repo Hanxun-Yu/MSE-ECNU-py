{
 "cells": [
  {
   "cell_type": "markdown",
   "metadata": {
    "pycharm": {
     "name": "#%% md\n"
    }
   },
   "source": [
    ">配合pdf上笔记, 写的一些代码\n",
    "### 同余定理\n",
    "设$ a\\in{\\Bbb Z}_{m}$，对任意的$b\\in{\\Bbb Z}_{m}$，同余方程<br>\n",
    "$\\qquad ax\\equiv b\\;(mod\\;{\\mit m})  $<br>\n",
    "有唯一解的充分必要条件是<br>\n",
    "$\\qquad gcd(a,m)=1$ （gcd最大公约数函数）\n",
    "\n",
    ">下面这个函数cal_x(a,m)，传入a和m，列出所有b<m对应的x"
   ]
  },
  {
   "cell_type": "code",
   "execution_count": 2,
   "metadata": {
    "collapsed": true
   },
   "outputs": [],
   "source": [
    "def cal_x(a,m):\n",
    "    print(\"start a=%d m=%d\" %(a,m))\n",
    "    for b in range(0,m):\n",
    "        for x in range(0,m):\n",
    "            if (a*x)%m == b:\n",
    "                print(\"b:%d x:%d \" % (b,x))\n",
    "    print(\"end\")"
   ]
  },
  {
   "cell_type": "markdown",
   "metadata": {
    "pycharm": {
     "name": "#%% md\n"
    }
   },
   "source": [
    ">设a=5 m=26 gcd(a,m)=1  每个b将对应一个x"
   ]
  },
  {
   "cell_type": "code",
   "execution_count": null,
   "metadata": {
    "pycharm": {
     "name": "#%%\n"
    }
   },
   "outputs": [],
   "source": [
    "cal_x(5,26)"
   ]
  },
  {
   "cell_type": "markdown",
   "metadata": {
    "pycharm": {
     "name": "#%% md\n"
    }
   },
   "source": [
    ">设a=8 m=26 gcd(a,m)=2  每个b将对应gcd()即2个x或无解"
   ]
  },
  {
   "cell_type": "code",
   "execution_count": null,
   "metadata": {
    "pycharm": {
     "name": "#%%\n"
    }
   },
   "outputs": [],
   "source": [
    "cal_x(8,26)"
   ]
  },
  {
   "cell_type": "markdown",
   "metadata": {
    "pycharm": {
     "name": "#%% md\n"
    }
   },
   "source": [
    "### 乘法逆定义和性质\n",
    "\n",
    "1. $设 a\\in{\\Bbb Z}_{m}$，若存在$a' \\in{\\Bbb Z}_{m}$，使得<br>\n",
    "$aa'\\equiv 1\\;(mod\\;{\\mit m})$<br>\n",
    "$则称a模m可逆，a'为a的（乘法）逆元。$<br>$a’可记为{a}^{-1}mod\\;m,在m固定的情形下，简记为{a}^{-1}$"
   ]
  },
  {
   "cell_type": "markdown",
   "metadata": {
    "pycharm": {
     "name": "#%% md\n"
    }
   },
   "source": [
    "2. $当且仅当gcd(a,m)=1时，a模m可逆。$<br>\n",
    ">设a与m另gcd(a,m)=1 观察b=1时，x的值，这里求的x就是a逆"
   ]
  },
  {
   "cell_type": "code",
   "execution_count": 4,
   "metadata": {
    "pycharm": {
     "name": "#%%\n"
    }
   },
   "outputs": [
    {
     "name": "stdout",
     "output_type": "stream",
     "text": [
      "start a=3 m=26\n",
      "b:0 x:0 \n",
      "b:1 x:9 \n",
      "b:2 x:18 \n",
      "b:3 x:1 \n",
      "b:4 x:10 \n",
      "b:5 x:19 \n",
      "b:6 x:2 \n",
      "b:7 x:11 \n",
      "b:8 x:20 \n",
      "b:9 x:3 \n",
      "b:10 x:12 \n",
      "b:11 x:21 \n",
      "b:12 x:4 \n",
      "b:13 x:13 \n",
      "b:14 x:22 \n",
      "b:15 x:5 \n",
      "b:16 x:14 \n",
      "b:17 x:23 \n",
      "b:18 x:6 \n",
      "b:19 x:15 \n",
      "b:20 x:24 \n",
      "b:21 x:7 \n",
      "b:22 x:16 \n",
      "b:23 x:25 \n",
      "b:24 x:8 \n",
      "b:25 x:17 \n",
      "end\n"
     ]
    }
   ],
   "source": [
    "cal_x(3,26)"
   ]
  },
  {
   "cell_type": "markdown",
   "metadata": {},
   "source": [
    "3. $如果p为素数，则{\\Bbb Z}_{p}上任一非零元素均可逆。$<br>\n",
    ">传入任意素数m，任取a<m，观察b与x是否一一对应"
   ]
  },
  {
   "cell_type": "code",
   "execution_count": 3,
   "metadata": {
    "pycharm": {
     "name": "#%%\n"
    }
   },
   "outputs": [
    {
     "name": "stdout",
     "output_type": "stream",
     "text": [
      "start a=3 m=13\n",
      "b:0 x:0 \n",
      "b:1 x:9 \n",
      "b:2 x:5 \n",
      "b:3 x:1 \n",
      "b:4 x:10 \n",
      "b:5 x:6 \n",
      "b:6 x:2 \n",
      "b:7 x:11 \n",
      "b:8 x:7 \n",
      "b:9 x:3 \n",
      "b:10 x:12 \n",
      "b:11 x:8 \n",
      "b:12 x:4 \n",
      "end\n"
     ]
    }
   ],
   "source": [
    "cal_x(3,13)"
   ]
  },
  {
   "cell_type": "markdown",
   "metadata": {},
   "source": [
    "4. $如果gcd(a,m)=1时，则同余方程ax\\equiv b\\;(mod\\;{\\mit m})，在{\\Bbb Z}_{m}内有唯一解$<br>\n",
    "$x=({a}^{-1}b)\\; mod\\;{\\mit m}$<br>\n",
    "这和顶部同余定理一致\n",
    ">传入a与m 使gcd(a,m)=1，观察b与x是否一一对应"
   ]
  },
  {
   "cell_type": "code",
   "execution_count": null,
   "metadata": {
    "pycharm": {
     "name": "#%%\n"
    }
   },
   "outputs": [],
   "source": [
    "cal_x(7,26)"
   ]
  },
  {
   "cell_type": "markdown",
   "metadata": {},
   "source": [
    "### 仿射密码\n"
   ]
  }
 ],
 "metadata": {
  "kernelspec": {
   "display_name": "PyCharm (mse-ecnu-py)",
   "language": "python",
   "name": "pycharm-e6849b34"
  },
  "language_info": {
   "codemirror_mode": {
    "name": "ipython",
    "version": 3
   },
   "file_extension": ".py",
   "mimetype": "text/x-python",
   "name": "python",
   "nbconvert_exporter": "python",
   "pygments_lexer": "ipython3",
   "version": "3.8.5"
  }
 },
 "nbformat": 4,
 "nbformat_minor": 1
}